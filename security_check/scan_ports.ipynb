{
 "cells": [
  {
   "cell_type": "code",
   "id": "initial_id",
   "metadata": {
    "collapsed": true,
    "ExecuteTime": {
     "end_time": "2024-09-11T19:06:39.481054Z",
     "start_time": "2024-09-11T19:06:38.308887Z"
    }
   },
   "source": [
    "import socket\n",
    "import threading\n",
    "\n",
    "\n",
    "def scan_port(host, port, result):\n",
    "    try:\n",
    "        sock = socket.socket(socket.AF_INET, socket.SOCK_STREAM)\n",
    "        sock.settimeout(1)\n",
    "        result[port] = sock.connect_ex((host, port)) == 0\n",
    "    except Exception as e:\n",
    "        print(f\"Error scanning port {port}: {e}\")\n",
    "    finally:\n",
    "        sock.close()\n",
    "\n",
    "\n",
    "def scan_ports(host, ports):\n",
    "    threads = []\n",
    "    result = {}\n",
    "    for port in ports:\n",
    "        thread = threading.Thread(target=scan_port, args=(host, port, result))\n",
    "        threads.append(thread)\n",
    "        thread.start()\n",
    "\n",
    "    for thread in threads:\n",
    "        thread.join()\n",
    "\n",
    "    open_ports = [port for port, is_open in result.items() if is_open]\n",
    "    return open_ports\n",
    "\n",
    "\n",
    "if __name__ == \"__main__\":\n",
    "    target_host = \"opensource-demo.orangehrmlive.com\"\n",
    "    port_range = range(1, 1025)\n",
    "    open_ports = scan_ports(target_host, port_range)\n",
    "    print(f\"Open ports: {open_ports}\")"
   ],
   "outputs": [
    {
     "name": "stdout",
     "output_type": "stream",
     "text": [
      "Open ports: [21, 80, 443]\n"
     ]
    }
   ],
   "execution_count": 1
  },
  {
   "metadata": {},
   "cell_type": "code",
   "outputs": [],
   "execution_count": null,
   "source": "",
   "id": "690d61459f3667a4"
  }
 ],
 "metadata": {
  "kernelspec": {
   "display_name": "Python 3",
   "language": "python",
   "name": "python3"
  },
  "language_info": {
   "codemirror_mode": {
    "name": "ipython",
    "version": 2
   },
   "file_extension": ".py",
   "mimetype": "text/x-python",
   "name": "python",
   "nbconvert_exporter": "python",
   "pygments_lexer": "ipython2",
   "version": "2.7.6"
  }
 },
 "nbformat": 4,
 "nbformat_minor": 5
}
